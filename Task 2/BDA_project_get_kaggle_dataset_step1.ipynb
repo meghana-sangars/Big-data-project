{
  "nbformat": 4,
  "nbformat_minor": 0,
  "metadata": {
    "colab": {
      "name": "BDA_project_get_kaggle_dataset_step1.ipynb",
      "provenance": [],
      "collapsed_sections": []
    },
    "kernelspec": {
      "name": "python3",
      "display_name": "Python 3"
    },
    "accelerator": "GPU"
  },
  "cells": [
    {
      "cell_type": "markdown",
      "metadata": {
        "id": "YG6Ep50o3d2-"
      },
      "source": [
        "## **IMPORTS**"
      ]
    },
    {
      "cell_type": "code",
      "metadata": {
        "id": "we9OubWHEGdc"
      },
      "source": [
        "import pandas as pd\n",
        "import os\n",
        "import pickle"
      ],
      "execution_count": null,
      "outputs": []
    },
    {
      "cell_type": "markdown",
      "metadata": {
        "id": "BP-OMFeJhcmo"
      },
      "source": [
        "## **MOUNT DRIVE**"
      ]
    },
    {
      "cell_type": "code",
      "metadata": {
        "id": "qYz_wEyuDPvS",
        "colab": {
          "base_uri": "https://localhost:8080/"
        },
        "outputId": "d1ddac02-5b7c-4db7-a893-2cb5f5f10629"
      },
      "source": [
        "from google.colab import drive\n",
        "drive.mount('/content/drive')"
      ],
      "execution_count": null,
      "outputs": [
        {
          "output_type": "stream",
          "text": [
            "Mounted at /content/drive\n"
          ],
          "name": "stdout"
        }
      ]
    },
    {
      "cell_type": "code",
      "metadata": {
        "id": "9w0I3y5GDw-N",
        "colab": {
          "base_uri": "https://localhost:8080/"
        },
        "outputId": "18c9882a-b8e6-4175-82c0-a510d7c9ad9c"
      },
      "source": [
        "cd drive/My\\ Drive/bda/"
      ],
      "execution_count": null,
      "outputs": [
        {
          "output_type": "stream",
          "text": [
            "/content/drive/My Drive/bda\n"
          ],
          "name": "stdout"
        }
      ]
    },
    {
      "cell_type": "markdown",
      "metadata": {
        "id": "nlMxggk23okI"
      },
      "source": [
        "## **LOAD DATASET CONTAINING YOUTUBE DATA - FROM KAGGLE(only English language videos)**"
      ]
    },
    {
      "cell_type": "code",
      "metadata": {
        "id": "8psWMsB2_Q3e",
        "colab": {
          "base_uri": "https://localhost:8080/"
        },
        "outputId": "1f243dfa-5409-4dc5-dfc0-87d2f1670998"
      },
      "source": [
        "us_videos = pd.read_csv('/content/drive/My Drive/bda/USvideos.csv',encoding='utf8',error_bad_lines=False)"
      ],
      "execution_count": null,
      "outputs": [
        {
          "output_type": "stream",
          "text": [
            "b'Skipping line 2401: expected 11 fields, saw 21\\nSkipping line 2800: expected 11 fields, saw 21\\nSkipping line 5297: expected 11 fields, saw 12\\nSkipping line 5299: expected 11 fields, saw 12\\nSkipping line 5300: expected 11 fields, saw 12\\nSkipping line 5301: expected 11 fields, saw 12\\n'\n"
          ],
          "name": "stderr"
        }
      ]
    },
    {
      "cell_type": "code",
      "metadata": {
        "id": "7sDz9iLNl_jN",
        "colab": {
          "base_uri": "https://localhost:8080/"
        },
        "outputId": "83fe1266-c997-46fc-f834-836d47bdd3d8"
      },
      "source": [
        "gb_videos = pd.read_csv('/content/drive/My Drive/bda/GBvideos.csv',encoding='utf8',error_bad_lines=False)"
      ],
      "execution_count": null,
      "outputs": [
        {
          "output_type": "stream",
          "text": [
            "b'Skipping line 2398: expected 11 fields, saw 21\\nSkipping line 2797: expected 11 fields, saw 21\\n'\n"
          ],
          "name": "stderr"
        }
      ]
    },
    {
      "cell_type": "code",
      "metadata": {
        "id": "Ib3r3TTemLbr",
        "colab": {
          "base_uri": "https://localhost:8080/",
          "height": 441
        },
        "outputId": "51d9098c-3275-4cf0-f9e7-b295f46962ce"
      },
      "source": [
        "us_videos.head()"
      ],
      "execution_count": null,
      "outputs": [
        {
          "output_type": "execute_result",
          "data": {
            "text/html": [
              "<div>\n",
              "<style scoped>\n",
              "    .dataframe tbody tr th:only-of-type {\n",
              "        vertical-align: middle;\n",
              "    }\n",
              "\n",
              "    .dataframe tbody tr th {\n",
              "        vertical-align: top;\n",
              "    }\n",
              "\n",
              "    .dataframe thead th {\n",
              "        text-align: right;\n",
              "    }\n",
              "</style>\n",
              "<table border=\"1\" class=\"dataframe\">\n",
              "  <thead>\n",
              "    <tr style=\"text-align: right;\">\n",
              "      <th></th>\n",
              "      <th>video_id</th>\n",
              "      <th>title</th>\n",
              "      <th>channel_title</th>\n",
              "      <th>category_id</th>\n",
              "      <th>tags</th>\n",
              "      <th>views</th>\n",
              "      <th>likes</th>\n",
              "      <th>dislikes</th>\n",
              "      <th>comment_total</th>\n",
              "      <th>thumbnail_link</th>\n",
              "      <th>date</th>\n",
              "    </tr>\n",
              "  </thead>\n",
              "  <tbody>\n",
              "    <tr>\n",
              "      <th>0</th>\n",
              "      <td>XpVt6Z1Gjjo</td>\n",
              "      <td>1 YEAR OF VLOGGING -- HOW LOGAN PAUL CHANGED Y...</td>\n",
              "      <td>Logan Paul Vlogs</td>\n",
              "      <td>24</td>\n",
              "      <td>logan paul vlog|logan paul|logan|paul|olympics...</td>\n",
              "      <td>4394029</td>\n",
              "      <td>320053</td>\n",
              "      <td>5931</td>\n",
              "      <td>46245</td>\n",
              "      <td>https://i.ytimg.com/vi/XpVt6Z1Gjjo/default.jpg</td>\n",
              "      <td>13.09</td>\n",
              "    </tr>\n",
              "    <tr>\n",
              "      <th>1</th>\n",
              "      <td>K4wEI5zhHB0</td>\n",
              "      <td>iPhone X — Introducing iPhone X — Apple</td>\n",
              "      <td>Apple</td>\n",
              "      <td>28</td>\n",
              "      <td>Apple|iPhone 10|iPhone Ten|iPhone|Portrait Lig...</td>\n",
              "      <td>7860119</td>\n",
              "      <td>185853</td>\n",
              "      <td>26679</td>\n",
              "      <td>0</td>\n",
              "      <td>https://i.ytimg.com/vi/K4wEI5zhHB0/default.jpg</td>\n",
              "      <td>13.09</td>\n",
              "    </tr>\n",
              "    <tr>\n",
              "      <th>2</th>\n",
              "      <td>cLdxuaxaQwc</td>\n",
              "      <td>My Response</td>\n",
              "      <td>PewDiePie</td>\n",
              "      <td>22</td>\n",
              "      <td>[none]</td>\n",
              "      <td>5845909</td>\n",
              "      <td>576597</td>\n",
              "      <td>39774</td>\n",
              "      <td>170708</td>\n",
              "      <td>https://i.ytimg.com/vi/cLdxuaxaQwc/default.jpg</td>\n",
              "      <td>13.09</td>\n",
              "    </tr>\n",
              "    <tr>\n",
              "      <th>3</th>\n",
              "      <td>WYYvHb03Eog</td>\n",
              "      <td>Apple iPhone X first look</td>\n",
              "      <td>The Verge</td>\n",
              "      <td>28</td>\n",
              "      <td>apple iphone x hands on|Apple iPhone X|iPhone ...</td>\n",
              "      <td>2642103</td>\n",
              "      <td>24975</td>\n",
              "      <td>4542</td>\n",
              "      <td>12829</td>\n",
              "      <td>https://i.ytimg.com/vi/WYYvHb03Eog/default.jpg</td>\n",
              "      <td>13.09</td>\n",
              "    </tr>\n",
              "    <tr>\n",
              "      <th>4</th>\n",
              "      <td>sjlHnJvXdQs</td>\n",
              "      <td>iPhone X (parody)</td>\n",
              "      <td>jacksfilms</td>\n",
              "      <td>23</td>\n",
              "      <td>jacksfilms|parody|parodies|iphone|iphone x|iph...</td>\n",
              "      <td>1168130</td>\n",
              "      <td>96666</td>\n",
              "      <td>568</td>\n",
              "      <td>6666</td>\n",
              "      <td>https://i.ytimg.com/vi/sjlHnJvXdQs/default.jpg</td>\n",
              "      <td>13.09</td>\n",
              "    </tr>\n",
              "  </tbody>\n",
              "</table>\n",
              "</div>"
            ],
            "text/plain": [
              "      video_id  ...   date\n",
              "0  XpVt6Z1Gjjo  ...  13.09\n",
              "1  K4wEI5zhHB0  ...  13.09\n",
              "2  cLdxuaxaQwc  ...  13.09\n",
              "3  WYYvHb03Eog  ...  13.09\n",
              "4  sjlHnJvXdQs  ...  13.09\n",
              "\n",
              "[5 rows x 11 columns]"
            ]
          },
          "metadata": {
            "tags": []
          },
          "execution_count": 6
        }
      ]
    },
    {
      "cell_type": "code",
      "metadata": {
        "id": "UaeiY2CRW2MC",
        "colab": {
          "base_uri": "https://localhost:8080/",
          "height": 526
        },
        "outputId": "31ed5579-33e9-48a0-bccc-c6aa24db8503"
      },
      "source": [
        "gb_videos.head()"
      ],
      "execution_count": null,
      "outputs": [
        {
          "output_type": "execute_result",
          "data": {
            "text/html": [
              "<div>\n",
              "<style scoped>\n",
              "    .dataframe tbody tr th:only-of-type {\n",
              "        vertical-align: middle;\n",
              "    }\n",
              "\n",
              "    .dataframe tbody tr th {\n",
              "        vertical-align: top;\n",
              "    }\n",
              "\n",
              "    .dataframe thead th {\n",
              "        text-align: right;\n",
              "    }\n",
              "</style>\n",
              "<table border=\"1\" class=\"dataframe\">\n",
              "  <thead>\n",
              "    <tr style=\"text-align: right;\">\n",
              "      <th></th>\n",
              "      <th>video_id</th>\n",
              "      <th>title</th>\n",
              "      <th>channel_title</th>\n",
              "      <th>category_id</th>\n",
              "      <th>tags</th>\n",
              "      <th>views</th>\n",
              "      <th>likes</th>\n",
              "      <th>dislikes</th>\n",
              "      <th>comment_total</th>\n",
              "      <th>thumbnail_link</th>\n",
              "      <th>date</th>\n",
              "    </tr>\n",
              "  </thead>\n",
              "  <tbody>\n",
              "    <tr>\n",
              "      <th>0</th>\n",
              "      <td>jt2OHQh0HoQ</td>\n",
              "      <td>Live Apple Event - Apple September Event 2017 ...</td>\n",
              "      <td>Apple Event</td>\n",
              "      <td>28</td>\n",
              "      <td>apple events|apple event|iphone 8|iphone x|iph...</td>\n",
              "      <td>7426393</td>\n",
              "      <td>78240</td>\n",
              "      <td>13548</td>\n",
              "      <td>705</td>\n",
              "      <td>https://i.ytimg.com/vi/jt2OHQh0HoQ/default_liv...</td>\n",
              "      <td>13.09</td>\n",
              "    </tr>\n",
              "    <tr>\n",
              "      <th>1</th>\n",
              "      <td>AqokkXoa7uE</td>\n",
              "      <td>Holly and Phillip Meet Samantha the Sex Robot ...</td>\n",
              "      <td>This Morning</td>\n",
              "      <td>24</td>\n",
              "      <td>this morning|interview|holly willoughby|philli...</td>\n",
              "      <td>494203</td>\n",
              "      <td>2651</td>\n",
              "      <td>1309</td>\n",
              "      <td>0</td>\n",
              "      <td>https://i.ytimg.com/vi/AqokkXoa7uE/default.jpg</td>\n",
              "      <td>13.09</td>\n",
              "    </tr>\n",
              "    <tr>\n",
              "      <th>2</th>\n",
              "      <td>YPVcg45W0z4</td>\n",
              "      <td>My DNA Test Results! I'm WHAT?!</td>\n",
              "      <td>emmablackery</td>\n",
              "      <td>24</td>\n",
              "      <td>emmablackery|emma blackery|emma|blackery|briti...</td>\n",
              "      <td>142819</td>\n",
              "      <td>13119</td>\n",
              "      <td>151</td>\n",
              "      <td>1141</td>\n",
              "      <td>https://i.ytimg.com/vi/YPVcg45W0z4/default.jpg</td>\n",
              "      <td>13.09</td>\n",
              "    </tr>\n",
              "    <tr>\n",
              "      <th>3</th>\n",
              "      <td>T_PuZBdT2iM</td>\n",
              "      <td>getting into a conversation in a language you ...</td>\n",
              "      <td>ProZD</td>\n",
              "      <td>1</td>\n",
              "      <td>skit|korean|language|conversation|esl|japanese...</td>\n",
              "      <td>1580028</td>\n",
              "      <td>65729</td>\n",
              "      <td>1529</td>\n",
              "      <td>3598</td>\n",
              "      <td>https://i.ytimg.com/vi/T_PuZBdT2iM/default.jpg</td>\n",
              "      <td>13.09</td>\n",
              "    </tr>\n",
              "    <tr>\n",
              "      <th>4</th>\n",
              "      <td>NsjsmgmbCfc</td>\n",
              "      <td>Baby Name Challenge!</td>\n",
              "      <td>Sprinkleofglitter</td>\n",
              "      <td>26</td>\n",
              "      <td>sprinkleofglitter|sprinkle of glitter|baby gli...</td>\n",
              "      <td>40592</td>\n",
              "      <td>5019</td>\n",
              "      <td>57</td>\n",
              "      <td>490</td>\n",
              "      <td>https://i.ytimg.com/vi/NsjsmgmbCfc/default.jpg</td>\n",
              "      <td>13.09</td>\n",
              "    </tr>\n",
              "  </tbody>\n",
              "</table>\n",
              "</div>"
            ],
            "text/plain": [
              "      video_id  ...   date\n",
              "0  jt2OHQh0HoQ  ...  13.09\n",
              "1  AqokkXoa7uE  ...  13.09\n",
              "2  YPVcg45W0z4  ...  13.09\n",
              "3  T_PuZBdT2iM  ...  13.09\n",
              "4  NsjsmgmbCfc  ...  13.09\n",
              "\n",
              "[5 rows x 11 columns]"
            ]
          },
          "metadata": {
            "tags": []
          },
          "execution_count": 7
        }
      ]
    },
    {
      "cell_type": "code",
      "metadata": {
        "id": "Xh6cLP4Cp_fC",
        "colab": {
          "base_uri": "https://localhost:8080/"
        },
        "outputId": "5a9f23ae-af75-457a-e02d-8e0bbb0aec37"
      },
      "source": [
        "us_videos['category_id'].unique()"
      ],
      "execution_count": null,
      "outputs": [
        {
          "output_type": "execute_result",
          "data": {
            "text/plain": [
              "array([24, 28, 22, 23,  1, 26, 10, 25, 17, 27,  2, 20, 15, 29, 19, 43])"
            ]
          },
          "metadata": {
            "tags": []
          },
          "execution_count": 8
        }
      ]
    },
    {
      "cell_type": "code",
      "metadata": {
        "id": "43lrgHrTq_MF",
        "colab": {
          "base_uri": "https://localhost:8080/"
        },
        "outputId": "6fbaf300-5a5c-4638-da47-2a1fff0c2688"
      },
      "source": [
        "gb_videos['category_id'].unique()"
      ],
      "execution_count": null,
      "outputs": [
        {
          "output_type": "execute_result",
          "data": {
            "text/plain": [
              "array([28, 24,  1, 26, 17, 22, 10, 23, 27, 25, 20,  2, 15, 29, 19])"
            ]
          },
          "metadata": {
            "tags": []
          },
          "execution_count": 9
        }
      ]
    },
    {
      "cell_type": "markdown",
      "metadata": {
        "id": "6Q10CaMOW80y"
      },
      "source": [
        "## **LOAD DATASET CONTAINING YOUTUBE COMMENTS**"
      ]
    },
    {
      "cell_type": "code",
      "metadata": {
        "id": "kT9NYFMrXKDZ",
        "colab": {
          "base_uri": "https://localhost:8080/"
        },
        "outputId": "9f6b6f0e-a174-4a1b-d849-674eb7157de8"
      },
      "source": [
        "us_comments = pd.read_csv('/content/drive/My Drive/bda/UScomments.csv',encoding='utf8',error_bad_lines=False)"
      ],
      "execution_count": null,
      "outputs": [
        {
          "output_type": "stream",
          "text": [
            "b'Skipping line 41589: expected 4 fields, saw 11\\nSkipping line 51628: expected 4 fields, saw 7\\nSkipping line 114465: expected 4 fields, saw 5\\n'\n",
            "b'Skipping line 142496: expected 4 fields, saw 8\\nSkipping line 189732: expected 4 fields, saw 6\\nSkipping line 245218: expected 4 fields, saw 7\\n'\n",
            "b'Skipping line 388430: expected 4 fields, saw 5\\n'\n",
            "/usr/local/lib/python3.6/dist-packages/IPython/core/interactiveshell.py:2718: DtypeWarning: Columns (2,3) have mixed types.Specify dtype option on import or set low_memory=False.\n",
            "  interactivity=interactivity, compiler=compiler, result=result)\n"
          ],
          "name": "stderr"
        }
      ]
    },
    {
      "cell_type": "code",
      "metadata": {
        "id": "0i2pCG8xXKaB",
        "colab": {
          "base_uri": "https://localhost:8080/"
        },
        "outputId": "bec776c6-c546-4868-b496-6f801a660b6d"
      },
      "source": [
        "gb_comments = pd.read_csv('/content/drive/My Drive/bda/GBcomments.csv',encoding='utf8',error_bad_lines=False)"
      ],
      "execution_count": null,
      "outputs": [
        {
          "output_type": "stream",
          "text": [
            "b'Skipping line 113225: expected 4 fields, saw 5\\n'\n",
            "b'Skipping line 158379: expected 4 fields, saw 7\\nSkipping line 241590: expected 4 fields, saw 5\\nSkipping line 245637: expected 4 fields, saw 7\\n'\n",
            "b'Skipping line 521402: expected 4 fields, saw 5\\n'\n"
          ],
          "name": "stderr"
        }
      ]
    },
    {
      "cell_type": "code",
      "metadata": {
        "id": "Lh2slRunXgw4",
        "colab": {
          "base_uri": "https://localhost:8080/",
          "height": 198
        },
        "outputId": "a383b833-a2b5-4cc0-9703-f72b338b9ca4"
      },
      "source": [
        "us_comments.head()"
      ],
      "execution_count": null,
      "outputs": [
        {
          "output_type": "execute_result",
          "data": {
            "text/html": [
              "<div>\n",
              "<style scoped>\n",
              "    .dataframe tbody tr th:only-of-type {\n",
              "        vertical-align: middle;\n",
              "    }\n",
              "\n",
              "    .dataframe tbody tr th {\n",
              "        vertical-align: top;\n",
              "    }\n",
              "\n",
              "    .dataframe thead th {\n",
              "        text-align: right;\n",
              "    }\n",
              "</style>\n",
              "<table border=\"1\" class=\"dataframe\">\n",
              "  <thead>\n",
              "    <tr style=\"text-align: right;\">\n",
              "      <th></th>\n",
              "      <th>video_id</th>\n",
              "      <th>comment_text</th>\n",
              "      <th>likes</th>\n",
              "      <th>replies</th>\n",
              "    </tr>\n",
              "  </thead>\n",
              "  <tbody>\n",
              "    <tr>\n",
              "      <th>0</th>\n",
              "      <td>XpVt6Z1Gjjo</td>\n",
              "      <td>Logan Paul it's yo big day ‼️‼️‼️</td>\n",
              "      <td>4</td>\n",
              "      <td>0</td>\n",
              "    </tr>\n",
              "    <tr>\n",
              "      <th>1</th>\n",
              "      <td>XpVt6Z1Gjjo</td>\n",
              "      <td>I've been following you from the start of your...</td>\n",
              "      <td>3</td>\n",
              "      <td>0</td>\n",
              "    </tr>\n",
              "    <tr>\n",
              "      <th>2</th>\n",
              "      <td>XpVt6Z1Gjjo</td>\n",
              "      <td>Say hi to Kong and maverick for me</td>\n",
              "      <td>3</td>\n",
              "      <td>0</td>\n",
              "    </tr>\n",
              "    <tr>\n",
              "      <th>3</th>\n",
              "      <td>XpVt6Z1Gjjo</td>\n",
              "      <td>MY FAN . attendance</td>\n",
              "      <td>3</td>\n",
              "      <td>0</td>\n",
              "    </tr>\n",
              "    <tr>\n",
              "      <th>4</th>\n",
              "      <td>XpVt6Z1Gjjo</td>\n",
              "      <td>trending 😉</td>\n",
              "      <td>3</td>\n",
              "      <td>0</td>\n",
              "    </tr>\n",
              "  </tbody>\n",
              "</table>\n",
              "</div>"
            ],
            "text/plain": [
              "      video_id                                       comment_text likes replies\n",
              "0  XpVt6Z1Gjjo                  Logan Paul it's yo big day ‼️‼️‼️     4       0\n",
              "1  XpVt6Z1Gjjo  I've been following you from the start of your...     3       0\n",
              "2  XpVt6Z1Gjjo                 Say hi to Kong and maverick for me     3       0\n",
              "3  XpVt6Z1Gjjo                                MY FAN . attendance     3       0\n",
              "4  XpVt6Z1Gjjo                                         trending 😉     3       0"
            ]
          },
          "metadata": {
            "tags": []
          },
          "execution_count": 12
        }
      ]
    },
    {
      "cell_type": "code",
      "metadata": {
        "id": "Q2OQChRpX-GQ",
        "colab": {
          "base_uri": "https://localhost:8080/",
          "height": 198
        },
        "outputId": "d197a825-2e12-4173-bb17-95349e36588b"
      },
      "source": [
        "gb_comments.head()"
      ],
      "execution_count": null,
      "outputs": [
        {
          "output_type": "execute_result",
          "data": {
            "text/html": [
              "<div>\n",
              "<style scoped>\n",
              "    .dataframe tbody tr th:only-of-type {\n",
              "        vertical-align: middle;\n",
              "    }\n",
              "\n",
              "    .dataframe tbody tr th {\n",
              "        vertical-align: top;\n",
              "    }\n",
              "\n",
              "    .dataframe thead th {\n",
              "        text-align: right;\n",
              "    }\n",
              "</style>\n",
              "<table border=\"1\" class=\"dataframe\">\n",
              "  <thead>\n",
              "    <tr style=\"text-align: right;\">\n",
              "      <th></th>\n",
              "      <th>video_id</th>\n",
              "      <th>comment_text</th>\n",
              "      <th>likes</th>\n",
              "      <th>replies</th>\n",
              "    </tr>\n",
              "  </thead>\n",
              "  <tbody>\n",
              "    <tr>\n",
              "      <th>0</th>\n",
              "      <td>jt2OHQh0HoQ</td>\n",
              "      <td>It's more accurate to call it the M+ (1000) be...</td>\n",
              "      <td>0</td>\n",
              "      <td>0</td>\n",
              "    </tr>\n",
              "    <tr>\n",
              "      <th>1</th>\n",
              "      <td>jt2OHQh0HoQ</td>\n",
              "      <td>To be there with a samsung phone\\n😂😂😂</td>\n",
              "      <td>1</td>\n",
              "      <td>0</td>\n",
              "    </tr>\n",
              "    <tr>\n",
              "      <th>2</th>\n",
              "      <td>jt2OHQh0HoQ</td>\n",
              "      <td>Thank gosh, a place I can watch it without hav...</td>\n",
              "      <td>0</td>\n",
              "      <td>0</td>\n",
              "    </tr>\n",
              "    <tr>\n",
              "      <th>3</th>\n",
              "      <td>jt2OHQh0HoQ</td>\n",
              "      <td>What happened to the home button on the iPhone...</td>\n",
              "      <td>0</td>\n",
              "      <td>0</td>\n",
              "    </tr>\n",
              "    <tr>\n",
              "      <th>4</th>\n",
              "      <td>jt2OHQh0HoQ</td>\n",
              "      <td>Power is the disease.  Care is the cure.  Keep...</td>\n",
              "      <td>0</td>\n",
              "      <td>0</td>\n",
              "    </tr>\n",
              "  </tbody>\n",
              "</table>\n",
              "</div>"
            ],
            "text/plain": [
              "      video_id  ... replies\n",
              "0  jt2OHQh0HoQ  ...       0\n",
              "1  jt2OHQh0HoQ  ...       0\n",
              "2  jt2OHQh0HoQ  ...       0\n",
              "3  jt2OHQh0HoQ  ...       0\n",
              "4  jt2OHQh0HoQ  ...       0\n",
              "\n",
              "[5 rows x 4 columns]"
            ]
          },
          "metadata": {
            "tags": []
          },
          "execution_count": 13
        }
      ]
    },
    {
      "cell_type": "markdown",
      "metadata": {
        "id": "6fUBox6KYFvb"
      },
      "source": [
        "## **MERGE VIDEOS AND COMMENTS FILE BASED ON COLUMN - video_id**"
      ]
    },
    {
      "cell_type": "code",
      "metadata": {
        "id": "yZUwEs-2YTqI"
      },
      "source": [
        "us_data=pd.merge(us_videos, us_comments, on='video_id')"
      ],
      "execution_count": null,
      "outputs": []
    },
    {
      "cell_type": "code",
      "metadata": {
        "id": "95gCmP9pZmSl"
      },
      "source": [
        "gb_data=pd.merge(gb_videos, gb_comments, on='video_id')"
      ],
      "execution_count": null,
      "outputs": []
    },
    {
      "cell_type": "code",
      "metadata": {
        "id": "7ouwiJiCYl-y",
        "colab": {
          "base_uri": "https://localhost:8080/"
        },
        "outputId": "3e59a09c-9318-4889-8f31-660f6f64fb8a"
      },
      "source": [
        "print(\"Number of records in US videos : \", len(us_data))"
      ],
      "execution_count": null,
      "outputs": [
        {
          "output_type": "stream",
          "text": [
            "Number of records in US videos :  2940930\n"
          ],
          "name": "stdout"
        }
      ]
    },
    {
      "cell_type": "code",
      "metadata": {
        "id": "Qu9aRXQdgBMk",
        "colab": {
          "base_uri": "https://localhost:8080/"
        },
        "outputId": "808f9c8b-157d-46d5-e9cf-c2216a7ead25"
      },
      "source": [
        "print(\"Number of records in GB videos : \", len(gb_data))"
      ],
      "execution_count": null,
      "outputs": [
        {
          "output_type": "stream",
          "text": [
            "Number of records in GB videos :  4209091\n"
          ],
          "name": "stdout"
        }
      ]
    },
    {
      "cell_type": "code",
      "metadata": {
        "id": "Ill5j-b7Mrdp"
      },
      "source": [
        "combined_data = pd.concat([us_data,gb_data]).drop_duplicates().reset_index(drop=True)"
      ],
      "execution_count": null,
      "outputs": []
    },
    {
      "cell_type": "code",
      "metadata": {
        "id": "JLf6nVeW6jJU",
        "colab": {
          "base_uri": "https://localhost:8080/"
        },
        "outputId": "46a6fa08-8d9e-4933-9f93-9ba237a1f80c"
      },
      "source": [
        "combined_data.columns"
      ],
      "execution_count": null,
      "outputs": [
        {
          "output_type": "execute_result",
          "data": {
            "text/plain": [
              "Index(['video_id', 'title', 'channel_title', 'category_id', 'tags', 'views',\n",
              "       'likes_x', 'dislikes', 'comment_total', 'thumbnail_link', 'date',\n",
              "       'comment_text', 'likes_y', 'replies'],\n",
              "      dtype='object')"
            ]
          },
          "metadata": {
            "tags": []
          },
          "execution_count": 21
        }
      ]
    },
    {
      "cell_type": "code",
      "metadata": {
        "id": "GMuKyTOOM5XQ",
        "colab": {
          "base_uri": "https://localhost:8080/"
        },
        "outputId": "04304bf3-aaa1-4629-f32a-aecaff099a76"
      },
      "source": [
        "len(combined_data)"
      ],
      "execution_count": null,
      "outputs": [
        {
          "output_type": "execute_result",
          "data": {
            "text/plain": [
              "4329819"
            ]
          },
          "metadata": {
            "tags": []
          },
          "execution_count": 23
        }
      ]
    },
    {
      "cell_type": "code",
      "metadata": {
        "id": "TD5FVhEg5-4M"
      },
      "source": [
        "combined_data = combined_data.drop(['likes_y','replies','thumbnail_link'],axis=1)"
      ],
      "execution_count": null,
      "outputs": []
    },
    {
      "cell_type": "code",
      "metadata": {
        "id": "Xahv2sa86tw7"
      },
      "source": [
        ""
      ],
      "execution_count": null,
      "outputs": []
    },
    {
      "cell_type": "code",
      "metadata": {
        "id": "MISyIRiINZbu"
      },
      "source": [
        "combined_data.to_csv('combined_data.csv')"
      ],
      "execution_count": null,
      "outputs": []
    },
    {
      "cell_type": "markdown",
      "metadata": {
        "id": "pOInWTT633-w"
      },
      "source": [
        "## **SELECT \"EDUCATIONAL\" VIDEOS - Filtering rows for category_id = 27**"
      ]
    },
    {
      "cell_type": "code",
      "metadata": {
        "id": "Z8pSlNKw23Vp"
      },
      "source": [
        "temp1 = us_data[us_data.category_id== 27]\n",
        "temp2 = gb_data[gb_data.category_id== 27]\n",
        "link_list = pd.concat([temp1,temp2])"
      ],
      "execution_count": null,
      "outputs": []
    },
    {
      "cell_type": "code",
      "metadata": {
        "id": "MgAvG-aH3YLp",
        "colab": {
          "base_uri": "https://localhost:8080/"
        },
        "outputId": "abb90c6e-c85f-443d-96a5-de95672e4d46"
      },
      "source": [
        "len(link_list)"
      ],
      "execution_count": null,
      "outputs": [
        {
          "output_type": "execute_result",
          "data": {
            "text/plain": [
              "242152"
            ]
          },
          "metadata": {
            "tags": []
          },
          "execution_count": 21
        }
      ]
    },
    {
      "cell_type": "code",
      "metadata": {
        "id": "EMbD_E_lNwye",
        "colab": {
          "base_uri": "https://localhost:8080/",
          "height": 646
        },
        "outputId": "29c1f939-6bbc-4e7d-c47b-864ebbe6b7b4"
      },
      "source": [
        "link_list.head()"
      ],
      "execution_count": null,
      "outputs": [
        {
          "output_type": "execute_result",
          "data": {
            "text/html": [
              "<div>\n",
              "<style scoped>\n",
              "    .dataframe tbody tr th:only-of-type {\n",
              "        vertical-align: middle;\n",
              "    }\n",
              "\n",
              "    .dataframe tbody tr th {\n",
              "        vertical-align: top;\n",
              "    }\n",
              "\n",
              "    .dataframe thead th {\n",
              "        text-align: right;\n",
              "    }\n",
              "</style>\n",
              "<table border=\"1\" class=\"dataframe\">\n",
              "  <thead>\n",
              "    <tr style=\"text-align: right;\">\n",
              "      <th></th>\n",
              "      <th>video_id</th>\n",
              "      <th>title</th>\n",
              "      <th>channel_title</th>\n",
              "      <th>category_id</th>\n",
              "      <th>tags</th>\n",
              "      <th>views</th>\n",
              "      <th>likes_x</th>\n",
              "      <th>dislikes</th>\n",
              "      <th>comment_total</th>\n",
              "      <th>thumbnail_link</th>\n",
              "      <th>date</th>\n",
              "      <th>comment_text</th>\n",
              "      <th>likes_y</th>\n",
              "      <th>replies</th>\n",
              "    </tr>\n",
              "  </thead>\n",
              "  <tbody>\n",
              "    <tr>\n",
              "      <th>84376</th>\n",
              "      <td>ql0Op1VcELw</td>\n",
              "      <td>What's Actually the Plane of the Future</td>\n",
              "      <td>Wendover Productions</td>\n",
              "      <td>27</td>\n",
              "      <td>plane|of|the|future|aviation|airplane|aircraft...</td>\n",
              "      <td>602127</td>\n",
              "      <td>19575</td>\n",
              "      <td>658</td>\n",
              "      <td>2510</td>\n",
              "      <td>https://i.ytimg.com/vi/ql0Op1VcELw/default.jpg</td>\n",
              "      <td>13.09</td>\n",
              "      <td>Hey I hope you enjoy this new video! Some 370 ...</td>\n",
              "      <td>728</td>\n",
              "      <td>77</td>\n",
              "    </tr>\n",
              "    <tr>\n",
              "      <th>84377</th>\n",
              "      <td>ql0Op1VcELw</td>\n",
              "      <td>What's Actually the Plane of the Future</td>\n",
              "      <td>Wendover Productions</td>\n",
              "      <td>27</td>\n",
              "      <td>plane|of|the|future|aviation|airplane|aircraft...</td>\n",
              "      <td>602127</td>\n",
              "      <td>19575</td>\n",
              "      <td>658</td>\n",
              "      <td>2510</td>\n",
              "      <td>https://i.ytimg.com/vi/ql0Op1VcELw/default.jpg</td>\n",
              "      <td>13.09</td>\n",
              "      <td>What do the 7s refer to?</td>\n",
              "      <td>0</td>\n",
              "      <td>0</td>\n",
              "    </tr>\n",
              "    <tr>\n",
              "      <th>84378</th>\n",
              "      <td>ql0Op1VcELw</td>\n",
              "      <td>What's Actually the Plane of the Future</td>\n",
              "      <td>Wendover Productions</td>\n",
              "      <td>27</td>\n",
              "      <td>plane|of|the|future|aviation|airplane|aircraft...</td>\n",
              "      <td>602127</td>\n",
              "      <td>19575</td>\n",
              "      <td>658</td>\n",
              "      <td>2510</td>\n",
              "      <td>https://i.ytimg.com/vi/ql0Op1VcELw/default.jpg</td>\n",
              "      <td>13.09</td>\n",
              "      <td>As an aircraft tech, Boeing products are super...</td>\n",
              "      <td>0</td>\n",
              "      <td>0</td>\n",
              "    </tr>\n",
              "    <tr>\n",
              "      <th>84379</th>\n",
              "      <td>ql0Op1VcELw</td>\n",
              "      <td>What's Actually the Plane of the Future</td>\n",
              "      <td>Wendover Productions</td>\n",
              "      <td>27</td>\n",
              "      <td>plane|of|the|future|aviation|airplane|aircraft...</td>\n",
              "      <td>602127</td>\n",
              "      <td>19575</td>\n",
              "      <td>658</td>\n",
              "      <td>2510</td>\n",
              "      <td>https://i.ytimg.com/vi/ql0Op1VcELw/default.jpg</td>\n",
              "      <td>13.09</td>\n",
              "      <td>Hydrogen Aircraft and Electric Solar Power. Th...</td>\n",
              "      <td>0</td>\n",
              "      <td>0</td>\n",
              "    </tr>\n",
              "    <tr>\n",
              "      <th>84380</th>\n",
              "      <td>ql0Op1VcELw</td>\n",
              "      <td>What's Actually the Plane of the Future</td>\n",
              "      <td>Wendover Productions</td>\n",
              "      <td>27</td>\n",
              "      <td>plane|of|the|future|aviation|airplane|aircraft...</td>\n",
              "      <td>602127</td>\n",
              "      <td>19575</td>\n",
              "      <td>658</td>\n",
              "      <td>2510</td>\n",
              "      <td>https://i.ytimg.com/vi/ql0Op1VcELw/default.jpg</td>\n",
              "      <td>13.09</td>\n",
              "      <td>Lmao what about the bombardier CS300? It's not...</td>\n",
              "      <td>0</td>\n",
              "      <td>0</td>\n",
              "    </tr>\n",
              "  </tbody>\n",
              "</table>\n",
              "</div>"
            ],
            "text/plain": [
              "          video_id                                    title  ... likes_y  replies\n",
              "84376  ql0Op1VcELw  What's Actually the Plane of the Future  ...     728       77\n",
              "84377  ql0Op1VcELw  What's Actually the Plane of the Future  ...       0        0\n",
              "84378  ql0Op1VcELw  What's Actually the Plane of the Future  ...       0        0\n",
              "84379  ql0Op1VcELw  What's Actually the Plane of the Future  ...       0        0\n",
              "84380  ql0Op1VcELw  What's Actually the Plane of the Future  ...       0        0\n",
              "\n",
              "[5 rows x 14 columns]"
            ]
          },
          "metadata": {
            "tags": []
          },
          "execution_count": 22
        }
      ]
    },
    {
      "cell_type": "code",
      "metadata": {
        "id": "CJFJ_IhJgUuq"
      },
      "source": [
        "df = link_list.reset_index(drop=True)"
      ],
      "execution_count": null,
      "outputs": []
    },
    {
      "cell_type": "code",
      "metadata": {
        "id": "a3cQ3ZgpgnLv",
        "colab": {
          "base_uri": "https://localhost:8080/",
          "height": 646
        },
        "outputId": "43fdfd45-a3b9-47ff-8e47-2b00e2119732"
      },
      "source": [
        "df.head()"
      ],
      "execution_count": null,
      "outputs": [
        {
          "output_type": "execute_result",
          "data": {
            "text/html": [
              "<div>\n",
              "<style scoped>\n",
              "    .dataframe tbody tr th:only-of-type {\n",
              "        vertical-align: middle;\n",
              "    }\n",
              "\n",
              "    .dataframe tbody tr th {\n",
              "        vertical-align: top;\n",
              "    }\n",
              "\n",
              "    .dataframe thead th {\n",
              "        text-align: right;\n",
              "    }\n",
              "</style>\n",
              "<table border=\"1\" class=\"dataframe\">\n",
              "  <thead>\n",
              "    <tr style=\"text-align: right;\">\n",
              "      <th></th>\n",
              "      <th>video_id</th>\n",
              "      <th>title</th>\n",
              "      <th>channel_title</th>\n",
              "      <th>category_id</th>\n",
              "      <th>tags</th>\n",
              "      <th>views</th>\n",
              "      <th>likes_x</th>\n",
              "      <th>dislikes</th>\n",
              "      <th>comment_total</th>\n",
              "      <th>thumbnail_link</th>\n",
              "      <th>date</th>\n",
              "      <th>comment_text</th>\n",
              "      <th>likes_y</th>\n",
              "      <th>replies</th>\n",
              "    </tr>\n",
              "  </thead>\n",
              "  <tbody>\n",
              "    <tr>\n",
              "      <th>0</th>\n",
              "      <td>ql0Op1VcELw</td>\n",
              "      <td>What's Actually the Plane of the Future</td>\n",
              "      <td>Wendover Productions</td>\n",
              "      <td>27</td>\n",
              "      <td>plane|of|the|future|aviation|airplane|aircraft...</td>\n",
              "      <td>602127</td>\n",
              "      <td>19575</td>\n",
              "      <td>658</td>\n",
              "      <td>2510</td>\n",
              "      <td>https://i.ytimg.com/vi/ql0Op1VcELw/default.jpg</td>\n",
              "      <td>13.09</td>\n",
              "      <td>Hey I hope you enjoy this new video! Some 370 ...</td>\n",
              "      <td>728</td>\n",
              "      <td>77</td>\n",
              "    </tr>\n",
              "    <tr>\n",
              "      <th>1</th>\n",
              "      <td>ql0Op1VcELw</td>\n",
              "      <td>What's Actually the Plane of the Future</td>\n",
              "      <td>Wendover Productions</td>\n",
              "      <td>27</td>\n",
              "      <td>plane|of|the|future|aviation|airplane|aircraft...</td>\n",
              "      <td>602127</td>\n",
              "      <td>19575</td>\n",
              "      <td>658</td>\n",
              "      <td>2510</td>\n",
              "      <td>https://i.ytimg.com/vi/ql0Op1VcELw/default.jpg</td>\n",
              "      <td>13.09</td>\n",
              "      <td>What do the 7s refer to?</td>\n",
              "      <td>0</td>\n",
              "      <td>0</td>\n",
              "    </tr>\n",
              "    <tr>\n",
              "      <th>2</th>\n",
              "      <td>ql0Op1VcELw</td>\n",
              "      <td>What's Actually the Plane of the Future</td>\n",
              "      <td>Wendover Productions</td>\n",
              "      <td>27</td>\n",
              "      <td>plane|of|the|future|aviation|airplane|aircraft...</td>\n",
              "      <td>602127</td>\n",
              "      <td>19575</td>\n",
              "      <td>658</td>\n",
              "      <td>2510</td>\n",
              "      <td>https://i.ytimg.com/vi/ql0Op1VcELw/default.jpg</td>\n",
              "      <td>13.09</td>\n",
              "      <td>As an aircraft tech, Boeing products are super...</td>\n",
              "      <td>0</td>\n",
              "      <td>0</td>\n",
              "    </tr>\n",
              "    <tr>\n",
              "      <th>3</th>\n",
              "      <td>ql0Op1VcELw</td>\n",
              "      <td>What's Actually the Plane of the Future</td>\n",
              "      <td>Wendover Productions</td>\n",
              "      <td>27</td>\n",
              "      <td>plane|of|the|future|aviation|airplane|aircraft...</td>\n",
              "      <td>602127</td>\n",
              "      <td>19575</td>\n",
              "      <td>658</td>\n",
              "      <td>2510</td>\n",
              "      <td>https://i.ytimg.com/vi/ql0Op1VcELw/default.jpg</td>\n",
              "      <td>13.09</td>\n",
              "      <td>Hydrogen Aircraft and Electric Solar Power. Th...</td>\n",
              "      <td>0</td>\n",
              "      <td>0</td>\n",
              "    </tr>\n",
              "    <tr>\n",
              "      <th>4</th>\n",
              "      <td>ql0Op1VcELw</td>\n",
              "      <td>What's Actually the Plane of the Future</td>\n",
              "      <td>Wendover Productions</td>\n",
              "      <td>27</td>\n",
              "      <td>plane|of|the|future|aviation|airplane|aircraft...</td>\n",
              "      <td>602127</td>\n",
              "      <td>19575</td>\n",
              "      <td>658</td>\n",
              "      <td>2510</td>\n",
              "      <td>https://i.ytimg.com/vi/ql0Op1VcELw/default.jpg</td>\n",
              "      <td>13.09</td>\n",
              "      <td>Lmao what about the bombardier CS300? It's not...</td>\n",
              "      <td>0</td>\n",
              "      <td>0</td>\n",
              "    </tr>\n",
              "  </tbody>\n",
              "</table>\n",
              "</div>"
            ],
            "text/plain": [
              "      video_id                                    title  ... likes_y  replies\n",
              "0  ql0Op1VcELw  What's Actually the Plane of the Future  ...     728       77\n",
              "1  ql0Op1VcELw  What's Actually the Plane of the Future  ...       0        0\n",
              "2  ql0Op1VcELw  What's Actually the Plane of the Future  ...       0        0\n",
              "3  ql0Op1VcELw  What's Actually the Plane of the Future  ...       0        0\n",
              "4  ql0Op1VcELw  What's Actually the Plane of the Future  ...       0        0\n",
              "\n",
              "[5 rows x 14 columns]"
            ]
          },
          "metadata": {
            "tags": []
          },
          "execution_count": 25
        }
      ]
    },
    {
      "cell_type": "code",
      "metadata": {
        "id": "caOiu8Togrg4"
      },
      "source": [
        "df.to_csv('educational_comments',index=False)"
      ],
      "execution_count": null,
      "outputs": []
    }
  ]
}